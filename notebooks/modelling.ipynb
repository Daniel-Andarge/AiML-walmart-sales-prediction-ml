{
 "cells": [
  {
   "cell_type": "markdown",
   "id": "9087d803-c149-43f2-9f06-71f6e8ad765d",
   "metadata": {},
   "source": [
    "# Model Training"
   ]
  },
  {
   "cell_type": "code",
   "execution_count": 8,
   "id": "03382cad-0e80-42cf-9a89-2d1abe4d291a",
   "metadata": {},
   "outputs": [],
   "source": [
    "import pandas as pd\n",
    "import numpy as np\n",
    "import re\n",
    "import matplotlib.pyplot as plt\n",
    "import seaborn as sn\n",
    "from statsmodels.tsa.seasonal import STL\n",
    "import sys\n",
    "import os\n",
    "import pandas as pd\n",
    "sys.path.append('../scripts')\n",
    "import warnings\n",
    "warnings.filterwarnings('ignore')\n",
    "from data_loader import *"
   ]
  },
  {
   "cell_type": "code",
   "execution_count": 5,
   "id": "960d0b67-ed4f-4c96-88bb-0942643af555",
   "metadata": {},
   "outputs": [],
   "source": []
  },
  {
   "cell_type": "code",
   "execution_count": 9,
   "id": "a9029fa9-5d1f-4df2-9bdf-5826a718e0c2",
   "metadata": {},
   "outputs": [],
   "source": [
    "# path to the CSV file\n",
    "filename1 = 'predict_data_women.parquet'\n",
    "filename2 = 'predict_data_men.parquet'\n",
    "filename3 = 'predict_data_other.parquet'\n",
    "\n",
    "\n",
    "path1 = os.path.join('..', 'data/model_input', filename1)\n",
    "path2 = os.path.join('..', 'data/model_input', filename2)\n",
    "path3 = os.path.join('..', 'data/model_input', filename3)\n",
    "\n",
    "\n",
    "# Load dataset\n",
    "predict_data_women = load_data(path1)\n",
    "predict_data_men = load_data(path2)\n",
    "predict_data_other = load_data(path3)"
   ]
  },
  {
   "cell_type": "code",
   "execution_count": 11,
   "id": "b71c549c-5c31-4e59-a7e8-555f45aa5fc0",
   "metadata": {},
   "outputs": [
    {
     "data": {
      "text/html": [
       "<div>\n",
       "<style scoped>\n",
       "    .dataframe tbody tr th:only-of-type {\n",
       "        vertical-align: middle;\n",
       "    }\n",
       "\n",
       "    .dataframe tbody tr th {\n",
       "        vertical-align: top;\n",
       "    }\n",
       "\n",
       "    .dataframe thead th {\n",
       "        text-align: right;\n",
       "    }\n",
       "</style>\n",
       "<table border=\"1\" class=\"dataframe\">\n",
       "  <thead>\n",
       "    <tr style=\"text-align: right;\">\n",
       "      <th></th>\n",
       "      <th>ds</th>\n",
       "      <th>y</th>\n",
       "      <th>Monthly Real GDP Index (inMillion$)</th>\n",
       "    </tr>\n",
       "  </thead>\n",
       "  <tbody>\n",
       "    <tr>\n",
       "      <th>0</th>\n",
       "      <td>2009-01-01</td>\n",
       "      <td>1755.0</td>\n",
       "      <td>14407.053</td>\n",
       "    </tr>\n",
       "    <tr>\n",
       "      <th>1</th>\n",
       "      <td>2009-02-01</td>\n",
       "      <td>1729.0</td>\n",
       "      <td>14366.177</td>\n",
       "    </tr>\n",
       "    <tr>\n",
       "      <th>2</th>\n",
       "      <td>2009-03-01</td>\n",
       "      <td>2256.0</td>\n",
       "      <td>14351.787</td>\n",
       "    </tr>\n",
       "    <tr>\n",
       "      <th>3</th>\n",
       "      <td>2009-04-01</td>\n",
       "      <td>2662.0</td>\n",
       "      <td>14351.602</td>\n",
       "    </tr>\n",
       "    <tr>\n",
       "      <th>4</th>\n",
       "      <td>2009-05-01</td>\n",
       "      <td>2732.0</td>\n",
       "      <td>14368.124</td>\n",
       "    </tr>\n",
       "  </tbody>\n",
       "</table>\n",
       "</div>"
      ],
      "text/plain": [
       "          ds       y  Monthly Real GDP Index (inMillion$)\n",
       "0 2009-01-01  1755.0                            14407.053\n",
       "1 2009-02-01  1729.0                            14366.177\n",
       "2 2009-03-01  2256.0                            14351.787\n",
       "3 2009-04-01  2662.0                            14351.602\n",
       "4 2009-05-01  2732.0                            14368.124"
      ]
     },
     "execution_count": 11,
     "metadata": {},
     "output_type": "execute_result"
    }
   ],
   "source": [
    "predict_data_women.head()"
   ]
  },
  {
   "cell_type": "code",
   "execution_count": null,
   "id": "7b0b68fc-a1d9-40f7-88eb-a1ec7b3e072c",
   "metadata": {},
   "outputs": [],
   "source": []
  }
 ],
 "metadata": {
  "kernelspec": {
   "display_name": "Python 3 (ipykernel)",
   "language": "python",
   "name": "python3"
  },
  "language_info": {
   "codemirror_mode": {
    "name": "ipython",
    "version": 3
   },
   "file_extension": ".py",
   "mimetype": "text/x-python",
   "name": "python",
   "nbconvert_exporter": "python",
   "pygments_lexer": "ipython3",
   "version": "3.9.13"
  }
 },
 "nbformat": 4,
 "nbformat_minor": 5
}
