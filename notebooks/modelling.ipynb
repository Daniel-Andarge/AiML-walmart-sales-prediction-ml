{
 "cells": [
  {
   "cell_type": "code",
   "execution_count": null,
   "id": "de18ec2b-c8c2-4ddf-9ff4-838bf596887e",
   "metadata": {},
   "outputs": [],
   "source": []
  }
 ],
 "metadata": {
  "kernelspec": {
   "display_name": "",
   "name": ""
  },
  "language_info": {
   "name": ""
  }
 },
 "nbformat": 4,
 "nbformat_minor": 5
}
